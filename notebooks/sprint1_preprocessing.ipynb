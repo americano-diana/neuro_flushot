{
 "cells": [
  {
   "cell_type": "markdown",
   "id": "5b02ba35",
   "metadata": {},
   "source": [
    "# Task 1.2: Data Cleaning and Preprocessing"
   ]
  },
  {
   "cell_type": "code",
   "execution_count": 9,
   "id": "c2887e81",
   "metadata": {},
   "outputs": [
    {
     "name": "stdout",
     "output_type": "stream",
     "text": [
      "The autoreload extension is already loaded. To reload it, use:\n",
      "  %reload_ext autoreload\n"
     ]
    }
   ],
   "source": [
    "%load_ext autoreload\n",
    "%autoreload 2   \n",
    "\n",
    "# Automatically reload modules when they change\n",
    "\n",
    "import pandas as pd\n",
    "import numpy as np\n",
    "from pathlib import Path\n",
    "\n",
    "# Always anchor relative to this notebook location\n",
    "ROOT = Path.cwd().parent\n",
    "DATA = ROOT / \"data\" / \"raw\"\n",
    "\n",
    "train_features = pd.read_csv(DATA / \"training_set_features.csv\")\n",
    "train_labels   = pd.read_csv(DATA / \"training_set_labels.csv\")\n",
    "test_features  = pd.read_csv(DATA / \"test_set_features.csv\")"
   ]
  },
  {
   "cell_type": "markdown",
   "id": "5d4c5785",
   "metadata": {},
   "source": [
    "## Create a data cleaning pipeline that can be reused for test data"
   ]
  },
  {
   "cell_type": "code",
   "execution_count": 12,
   "id": "c5298770",
   "metadata": {},
   "outputs": [
    {
     "name": "stdout",
     "output_type": "stream",
     "text": [
      "(26707, 54) (26708, 54)\n"
     ]
    }
   ],
   "source": [
    "import sys, os\n",
    "# go up one level from notebooks/ to project root\n",
    "repo_root = os.path.abspath(\"..\")\n",
    "if repo_root not in sys.path:\n",
    "    sys.path.append(repo_root)\n",
    "\n",
    "from src.preprocessing import FluShotPreprocessor\n",
    "\n",
    "prep = FluShotPreprocessor()\n",
    "\n",
    "# Fit and transform training data\n",
    "train_encoded = prep.fit_transform(train_features, train_labels)\n",
    "\n",
    "# Transform test data using train-based encoders\n",
    "test_encoded = prep.transform_test(test_features, train_features, train_labels)\n",
    "\n",
    "print(train_encoded.shape, test_encoded.shape)\n"
   ]
  },
  {
   "cell_type": "code",
   "execution_count": null,
   "id": "de5c9dd0",
   "metadata": {},
   "outputs": [],
   "source": [
    "Save csv files into folder data > processed > test_encoded.csv & traning_encoded.csv\n",
    "\n",
    "SAVE_PATH = ROOT / \"data\" / \"processed\"\n",
    "\n",
    "train_encoded.to_csv(SAVE_PATH / \"training_encoded.csv\")\n",
    "test_encoded.to_csv(SAVE_PATH / \"test_encoded.csv\")"
   ]
  }
 ],
 "metadata": {
  "kernelspec": {
   "display_name": ".venv",
   "language": "python",
   "name": "python3"
  },
  "language_info": {
   "codemirror_mode": {
    "name": "ipython",
    "version": 3
   },
   "file_extension": ".py",
   "mimetype": "text/x-python",
   "name": "python",
   "nbconvert_exporter": "python",
   "pygments_lexer": "ipython3",
   "version": "3.12.10"
  }
 },
 "nbformat": 4,
 "nbformat_minor": 5
}
